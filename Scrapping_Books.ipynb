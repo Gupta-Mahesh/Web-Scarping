{
 "cells": [
  {
   "cell_type": "markdown",
   "metadata": {},
   "source": [
    "## Jupyter notebook in Vs code"
   ]
  },
  {
   "cell_type": "markdown",
   "metadata": {},
   "source": [
    "### Scrapping book data from Books.toscrape.com site"
   ]
  },
  {
   "cell_type": "code",
   "execution_count": null,
   "metadata": {},
   "outputs": [],
   "source": [
    "import requests\n",
    "import pandas as pd\n",
    "from tqdm import tqdm\n",
    "from bs4 import BeautifulSoup\n",
    "\n",
    "data= []\n",
    "\n",
    "for i in tqdm(range(1,51)):     #visiting to each page\n",
    "    link = \"https://books.toscrape.com/catalogue/page-\"+str(i)+\".html\"      # creating link for each page\n",
    "    res = requests.get(link)                                                # Sending get request to webpage and it will return status code\n",
    "    soup = BeautifulSoup(res.text, 'html.parser')\n",
    "    #print(soup)\n",
    "    \n",
    "    for sp in soup.find_all('li', class_=\"col-xs-6 col-sm-4 col-md-3 col-lg-3\"):\n",
    "        img_link  = 'https://books.toscrape.com/' +sp.find('img').get('src')[3:]\n",
    "        book_link = 'https://books.toscrape.com/catalogue/' + sp.find('a').get('href')\n",
    "        title     = sp.find_all('a')[1].get('title')\n",
    "        rating    = sp.find('p').get('class')[1]\n",
    "        price     = sp.find('p', class_='price_color').text[2:]\n",
    "        stock     = sp.find('p',class_='instock availability').text.strip()\n",
    "        \n",
    "        data.append([title,rating,price,stock,book_link,img_link])          #Saving the data for each book\n",
    "          \n"
   ]
  },
  {
   "cell_type": "markdown",
   "metadata": {},
   "source": [
    "#### Exporting the data into csv file"
   ]
  },
  {
   "cell_type": "code",
   "execution_count": null,
   "metadata": {},
   "outputs": [],
   "source": [
    "data_frame = pd.DataFrame(data,columns=['Title','Rating','Price(£)','Availability','Book_Link','Book_Image'])\n",
    "data_frame.to_csv('Books_details_with_Link.csv',index=False)\n"
   ]
  }
 ],
 "metadata": {
  "kernelspec": {
   "display_name": "base",
   "language": "python",
   "name": "python3"
  },
  "language_info": {
   "codemirror_mode": {
    "name": "ipython",
    "version": 3
   },
   "file_extension": ".py",
   "mimetype": "text/x-python",
   "name": "python",
   "nbconvert_exporter": "python",
   "pygments_lexer": "ipython3",
   "version": "3.11.7"
  }
 },
 "nbformat": 4,
 "nbformat_minor": 2
}
